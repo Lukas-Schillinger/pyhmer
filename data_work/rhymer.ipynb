{
 "cells": [
  {
   "cell_type": "code",
   "execution_count": 19,
   "metadata": {},
   "outputs": [],
   "source": [
    "import pronouncing\n",
    "import pandas as pd\n",
    "import random\n",
    "import os\n",
    "from pathlib import Path\n",
    "\n",
    "from utility_functions import save_as_csv"
   ]
  },
  {
   "cell_type": "code",
   "execution_count": 20,
   "metadata": {},
   "outputs": [],
   "source": [
    "intersection_path = Path('intersection_data')\n",
    "\n",
    "animal_path = os.path.join(intersection_path, 'animal_intersection.csv')\n",
    "animals_frame = pd.read_csv(animal_path, header=None)\n",
    "animal_list = list(animals_frame[0])\n",
    "\n",
    "adjective_path = os.path.join(intersection_path, 'wordnet_adjective_intersection.csv')\n",
    "adjectives_frame = pd.read_csv(adjective_path, header=None)\n",
    "adjective_list = list(adjectives_frame[0])"
   ]
  },
  {
   "cell_type": "code",
   "execution_count": 21,
   "metadata": {},
   "outputs": [],
   "source": [
    "# Utility Functions\n",
    "\n",
    "def find_rhyming_words(str, words_to_search: list) -> list:\n",
    "    '''\n",
    "    Given a string and a list of words find the subset of \n",
    "    words that rhyme with the given string. Only works \n",
    "    using words in the CMU pronunciation dictionary.\n",
    "\n",
    "    .. doctest::\n",
    "        >>> str = 'crab'\n",
    "        >>> words_to_search = ['drab, tall, fab, bumpy']\n",
    "        >>> find_rhyming_words(str, words_to_search)\n",
    "        ['drab', 'fab']\n",
    "    '''\n",
    "    choices = pronouncing.rhymes(str)\n",
    "    valid_choices = list(set(words_to_search) & set(choices))\n",
    "    return valid_choices\n",
    "\n",
    "def generate_rhyme(adj_list: list, noun_list: list):\n",
    "    rhymes = []\n",
    "    tries = 0\n",
    "    len_noun_list = len(noun_list)\n",
    "    while tries <= len_noun_list:\n",
    "        chosen_word = random.choice(noun_list)\n",
    "        print(chosen_word)\n",
    "        valid_adjectives = find_rhyming_words(chosen_word, adj_list)\n",
    "        if valid_adjectives:\n",
    "            for adj in valid_adjectives:\n",
    "                rhymes.append(f'{adj} {chosen_word}')\n",
    "            break\n",
    "        else:\n",
    "            tries += 1\n",
    "            noun_list.pop(noun_list.index(chosen_word))\n",
    "    return rhymes"
   ]
  },
  {
   "cell_type": "code",
   "execution_count": 22,
   "metadata": {},
   "outputs": [
    {
     "name": "stdout",
     "output_type": "stream",
     "text": [
      "whale\n"
     ]
    },
    {
     "data": {
      "text/plain": [
       "['male whale', 'pale whale', 'frail whale', 'hale whale', 'stale whale']"
      ]
     },
     "execution_count": 22,
     "metadata": {},
     "output_type": "execute_result"
    }
   ],
   "source": [
    "generate_rhyme(adjective_list, animal_list)"
   ]
  },
  {
   "cell_type": "code",
   "execution_count": 27,
   "metadata": {},
   "outputs": [],
   "source": [
    "# Hard code a list of animal rhymes\n",
    "\n",
    "\n",
    "def get_all_rhymes(noun_list, adjective_list):\n",
    "    hard_coded = []\n",
    "    for noun in noun_list:\n",
    "        valid_adjectives = find_rhyming_words(noun, adjective_list)\n",
    "        if valid_adjectives:\n",
    "            for adjective in valid_adjectives:\n",
    "                rhyme = f'{adjective} {noun}'\n",
    "                hard_coded.append(rhyme)\n",
    "    return hard_coded\n"
   ]
  },
  {
   "cell_type": "code",
   "execution_count": 28,
   "metadata": {},
   "outputs": [],
   "source": [
    "save_as_csv(get_all_rhymes(animal_list, adjective_list), 'animal_rhymes.csv')"
   ]
  },
  {
   "cell_type": "code",
   "execution_count": 29,
   "metadata": {},
   "outputs": [
    {
     "name": "stdout",
     "output_type": "stream",
     "text": [
      "['diazo guanaco', 'alar jaguar', 'li bee', 'foursquare hare', 'preteen wolverine', 'fourteen wolverine', 'opportune raccoon', 'recluse moose', 'thirteen sardine', 'pro crow', 'allegro guanaco', 'routine wolverine', 'honorary cassowary', 'maroon raccoon', 'unreal seal', 'asinine porcupine', 'moot newt', 'equine porcupine', 'tributary cassowary', 'eleemosynary cassowary', 'puerile eel', 'halfway jay', 'erring herring', 'twinkly manatee', 'dietary cassowary', 'unseen sardine', 'undue gnu', 'diffuse goose', 'taboo kangaroo', 'nearby fly']\n"
     ]
    }
   ],
   "source": [
    "print(random.choices(get_all_rhymes(animal_list, adjective_list), k=30))"
   ]
  }
 ],
 "metadata": {
  "interpreter": {
   "hash": "916dbcbb3f70747c44a77c7bcd40155683ae19c65e1c03b4aa3499c5328201f1"
  },
  "kernelspec": {
   "display_name": "Python 3.10.4 64-bit",
   "language": "python",
   "name": "python3"
  },
  "language_info": {
   "codemirror_mode": {
    "name": "ipython",
    "version": 3
   },
   "file_extension": ".py",
   "mimetype": "text/x-python",
   "name": "python",
   "nbconvert_exporter": "python",
   "pygments_lexer": "ipython3",
   "version": "3.10.4"
  },
  "orig_nbformat": 4
 },
 "nbformat": 4,
 "nbformat_minor": 2
}
