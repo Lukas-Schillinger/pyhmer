{
 "cells": [
  {
   "cell_type": "code",
   "execution_count": 27,
   "metadata": {},
   "outputs": [],
   "source": [
    "import pandas as pd\n",
    "import csv\n",
    "import pathlib\n",
    "import os\n",
    "from string import punctuation, digits\n",
    "\n",
    "from utility_functions import count_csv_lines, save_as_csv, strip_bounded"
   ]
  },
  {
   "cell_type": "code",
   "execution_count": 28,
   "metadata": {},
   "outputs": [],
   "source": [
    "# Master Data\n",
    "\n",
    "master_data_directory = pathlib.Path('master_data')\n",
    "cleaned_data_directory = pathlib.Path('cleaned_data')\n",
    "\n",
    "# CMU Dict File\n",
    "original_cmu_dict = os.path.join(master_data_directory, 'cmudict.dict.txt')\n",
    "\n",
    "# Animal Names\n",
    "original_wikipedia_animals = os.path.join(master_data_directory, 'wikipedia_animal_list.csv')\n",
    "\n",
    "# New Original Adjectives\n",
    "original_wordnet_adjectives = os.path.join(master_data_directory, 'wordnet_adjectives_index')"
   ]
  },
  {
   "cell_type": "code",
   "execution_count": 29,
   "metadata": {},
   "outputs": [],
   "source": [
    "# Clean the Wordnet Adjectives File\n",
    "\n",
    "adjectives_list = []\n",
    "with open(original_wordnet_adjectives) as file:\n",
    "    csv_reader = csv.reader(file)\n",
    "    for row in csv_reader:\n",
    "        word = row[0]\n",
    "        if word and word[0] not in punctuation and word[0] not in digits and word[0] != ' ':\n",
    "            word = word.split(' ')[0]\n",
    "            word = word.replace('_', ' ')\n",
    "            word = word.lower()\n",
    "            if len(word) > 1:\n",
    "                adjectives_list.append(word)\n",
    "            \n",
    "clean_wordnet_adjectives_path = os.path.join(cleaned_data_directory, 'clean_wordnet_adjectives')\n",
    "save_as_csv(adjectives_list, clean_wordnet_adjectives_path)"
   ]
  },
  {
   "cell_type": "code",
   "execution_count": 30,
   "metadata": {},
   "outputs": [],
   "source": [
    "# Clean the CMU Dict File\n",
    "\n",
    "path = original_cmu_dict\n",
    "with open(path) as csv_file:\n",
    "    csv_reader = csv.reader(csv_file, delimiter=' ')\n",
    "    word_list = []\n",
    "    for row in csv_reader:\n",
    "        word = row[0]\n",
    "        if not any(symbol in word for symbol in punctuation):\n",
    "            word_list.append(row[0])\n",
    "\n",
    "clean_cmu_dict_path = os.path.join(cleaned_data_directory, 'clean_cmu_dict')\n",
    "save_as_csv(word_list, clean_cmu_dict_path)"
   ]
  },
  {
   "cell_type": "code",
   "execution_count": 31,
   "metadata": {},
   "outputs": [],
   "source": [
    "# Clean the Wikipedia Animal List\n",
    "\n",
    "def parse_animal(animal: str):\n",
    "    if len(animal) <= 1:\n",
    "        return False\n",
    "    if '(' in animal:\n",
    "        animal = strip_bounded(animal, '(')\n",
    "    if '[' in animal:\n",
    "        animal = strip_bounded(animal, '[')\n",
    "\n",
    "    if 'Also' in animal:\n",
    "        start = animal.find('Also')\n",
    "        animal = animal[0:start]\n",
    "    if 'See' in animal:\n",
    "        start = animal.find('Also')\n",
    "        animal = animal[0:start]\n",
    "    return animal\n",
    "\n",
    "path = original_wikipedia_animals\n",
    "with open(path) as csv_file:\n",
    "    csv_reader = csv.reader(csv_file)\n",
    "    next(csv_file) # skip the first line (header)\n",
    "    animal_list = []\n",
    "    for row in csv_reader:\n",
    "        animal = parse_animal(row[0])\n",
    "        if animal:\n",
    "            animal = animal.lower()\n",
    "            if '/' in animal:\n",
    "                split = animal.split('/')\n",
    "                animal_list += split \n",
    "            else: \n",
    "                animal: animal_list.append(animal)\n",
    "\n",
    "clean_wikipedia_animals_path = os.path.join(cleaned_data_directory, 'clean_wikipedia_animals')\n",
    "save_as_csv(animal_list, clean_wikipedia_animals_path)"
   ]
  },
  {
   "cell_type": "code",
   "execution_count": 32,
   "metadata": {},
   "outputs": [],
   "source": [
    "cmu_list = pd.read_csv(clean_cmu_dict_path + '.csv', header=None)\n",
    "animals = pd.read_csv(clean_wikipedia_animals_path + '.csv', header=None)\n",
    "wordnet_adjectives = pd.read_csv(clean_wordnet_adjectives_path + '.csv', header=None)"
   ]
  },
  {
   "cell_type": "code",
   "execution_count": 33,
   "metadata": {},
   "outputs": [],
   "source": [
    "animal_intersection = pd.merge(animals, cmu_list, left_on=0, right_on=0)\n",
    "wordnet_adjectives_intersection = pd.merge(wordnet_adjectives, cmu_list, left_on=0, right_on=0)"
   ]
  },
  {
   "cell_type": "code",
   "execution_count": 34,
   "metadata": {},
   "outputs": [
    {
     "name": "stdout",
     "output_type": "stream",
     "text": [
      "Animal names went from 312 to 199\n",
      "Wordnet Adjectives names went from 21528 to 9415\n"
     ]
    }
   ],
   "source": [
    "# Vital Statistics\n",
    "\n",
    "original_animal_names_length = count_csv_lines(original_wikipedia_animals)\n",
    "original_wordnet_adjectives_length = count_csv_lines(original_wordnet_adjectives)\n",
    "\n",
    "print(f'Animal names went from {original_animal_names_length} to {len(animal_intersection)}')\n",
    "print(f'Wordnet Adjectives names went from {original_wordnet_adjectives_length} to {len(wordnet_adjectives_intersection)}')"
   ]
  },
  {
   "cell_type": "code",
   "execution_count": 35,
   "metadata": {},
   "outputs": [],
   "source": [
    "intersection_path = pathlib.Path('intersection_data')\n",
    "\n",
    "save_as_csv(animal_intersection, f'{intersection_path}/animal_intersection')\n",
    "save_as_csv(wordnet_adjectives_intersection, f'{intersection_path}/wordnet_adjective_intersection')"
   ]
  }
 ],
 "metadata": {
  "interpreter": {
   "hash": "31f2aee4e71d21fbe5cf8b01ff0e069b9275f58929596ceb00d14d90e3e16cd6"
  },
  "kernelspec": {
   "display_name": "Python 3.10.4 64-bit",
   "language": "python",
   "name": "python3"
  },
  "language_info": {
   "codemirror_mode": {
    "name": "ipython",
    "version": 3
   },
   "file_extension": ".py",
   "mimetype": "text/x-python",
   "name": "python",
   "nbconvert_exporter": "python",
   "pygments_lexer": "ipython3",
   "version": "3.10.4"
  },
  "orig_nbformat": 4
 },
 "nbformat": 4,
 "nbformat_minor": 2
}
